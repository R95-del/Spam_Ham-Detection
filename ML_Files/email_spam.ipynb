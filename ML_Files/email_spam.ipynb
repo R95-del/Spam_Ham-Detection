{
 "cells": [
  {
   "cell_type": "code",
   "execution_count": 1,
   "metadata": {},
   "outputs": [],
   "source": [
    "# data manimulation and visualization libraries.\n",
    "import numpy as np\n",
    "import pandas as pd\n",
    "import matplotlib.pyplot as plt\n",
    "import seaborn as sns\n",
    "\n",
    "#avoid unnecessary warnings\n",
    "import warnings\n",
    "warnings.filterwarnings('ignore')"
   ]
  },
  {
   "cell_type": "code",
   "execution_count": 2,
   "metadata": {},
   "outputs": [],
   "source": [
    "# python modules\n",
    "import re\n",
    "import string\n",
    "import math"
   ]
  },
  {
   "cell_type": "code",
   "execution_count": 3,
   "metadata": {},
   "outputs": [],
   "source": [
    "# text cleaning libraries\n",
    "from nltk.corpus import stopwords\n",
    "from nltk.tokenize import word_tokenize\n",
    "from nltk.stem import PorterStemmer"
   ]
  },
  {
   "cell_type": "code",
   "execution_count": 4,
   "metadata": {},
   "outputs": [],
   "source": [
    "#model libraries\n",
    "from sklearn.model_selection import train_test_split\n",
    "from sklearn.feature_extraction.text import CountVectorizer\n",
    "from sklearn.naive_bayes import MultinomialNB\n",
    "from sklearn.metrics import accuracy_score,fbeta_score, confusion_matrix"
   ]
  },
  {
   "cell_type": "code",
   "execution_count": 5,
   "metadata": {},
   "outputs": [],
   "source": [
    "data = pd.read_csv('emails.csv')"
   ]
  },
  {
   "cell_type": "code",
   "execution_count": 6,
   "metadata": {},
   "outputs": [],
   "source": [
    "#data.head()"
   ]
  },
  {
   "cell_type": "code",
   "execution_count": 7,
   "metadata": {},
   "outputs": [],
   "source": [
    "data.rename(columns={'spam':'class'},inplace=True)\n",
    "data['label'] = np.where(data['class']==1,'spam','ham')"
   ]
  },
  {
   "cell_type": "code",
   "execution_count": 8,
   "metadata": {},
   "outputs": [],
   "source": [
    "# DROP DUPLICATE VALUES\n",
    "#data.drop_duplicates().reset_index(drop=True)\n",
    "data.drop_duplicates(inplace=True)"
   ]
  },
  {
   "cell_type": "code",
   "execution_count": 9,
   "metadata": {},
   "outputs": [],
   "source": [
    "# process text\n",
    "stop_words = set(stopwords.words('english'))\n",
    "\n",
    "stop_words.add('subject')\n",
    "stop_words.add('http')\n",
    "\n",
    "def preprocessing_text(x):\n",
    "    #lower case\n",
    "    x = x.lower()\n",
    "    \n",
    "    #email-id\n",
    "    x = re.sub('\\b[\\w\\-.]+?@\\w+?\\.\\w{2,4}\\b', 'emailadd',x)\n",
    "    \n",
    "    #url\n",
    "    x = re.sub('(http[s]?\\S+)|(\\w+\\.[A-Za-z]{2,4}\\S*)', 'urladd', x)\n",
    "    \n",
    "    #money symbols\n",
    "    x = re.sub('£|\\$', 'moneysymbols', x)\n",
    "    \n",
    "    #remove number and words containing no.\n",
    "    # x = re.sub(r'\\d+','',x)\n",
    "    x = re.sub('\\W*\\d\\w*','',x)\n",
    "        \n",
    "    #remove punctuation\n",
    "    x = re.sub('[%s]' % re.escape(string.punctuation), '' , x)\n",
    "    \n",
    "    #remove leading and ending space(extra white spaces)\n",
    "    #x = x.strip()\n",
    "    x = re.sub(' +',' ',x)\n",
    "    \n",
    "    #remove stopword\n",
    "    x = ' '.join([word for word in word_tokenize(x) if not word in stop_words])\n",
    "    return x\n",
    "\n",
    "#apply preprocessing text on text\n",
    "data['text'] = data['text'].apply(lambda x: preprocessing_text(x))"
   ]
  },
  {
   "cell_type": "code",
   "execution_count": 10,
   "metadata": {},
   "outputs": [],
   "source": [
    "ps = PorterStemmer()\n",
    "#lemm = WordNetLemmatizer()\n",
    "\n",
    "data['text'] = data['text'].apply(lambda x: ' '.join([ps.stem(word) for word in word_tokenize(x) if not word in stop_words]))"
   ]
  },
  {
   "cell_type": "code",
   "execution_count": 11,
   "metadata": {},
   "outputs": [
    {
     "data": {
      "text/plain": [
       "(5702,)"
      ]
     },
     "execution_count": 11,
     "metadata": {},
     "output_type": "execute_result"
    }
   ],
   "source": [
    "data['text'].shape"
   ]
  },
  {
   "cell_type": "code",
   "execution_count": 12,
   "metadata": {},
   "outputs": [],
   "source": [
    "# extract dtv\n",
    "cVect = CountVectorizer()"
   ]
  },
  {
   "cell_type": "code",
   "execution_count": 13,
   "metadata": {},
   "outputs": [],
   "source": [
    "X = cVect.fit_transform(data['text']).toarray()\n",
    "#X"
   ]
  },
  {
   "cell_type": "code",
   "execution_count": 14,
   "metadata": {
    "scrolled": false
   },
   "outputs": [
    {
     "name": "stdout",
     "output_type": "stream",
     "text": [
      "0    4331\n",
      "1    1371\n",
      "Name: class, dtype: int64\n"
     ]
    }
   ],
   "source": [
    "y = data['class']\n",
    "print(y.value_counts())"
   ]
  },
  {
   "cell_type": "code",
   "execution_count": 15,
   "metadata": {},
   "outputs": [],
   "source": [
    "# first taking out independent and dependent variable\n",
    "#x = data['text'].values\n",
    "#y = data['class']\n",
    "#print(\"shape of x:\",X.shape)\n",
    "#print(\"shape of y:\",y.shape)"
   ]
  },
  {
   "cell_type": "code",
   "execution_count": 16,
   "metadata": {},
   "outputs": [
    {
     "name": "stdout",
     "output_type": "stream",
     "text": [
      "size of training data: (4561, 25645)\n",
      "size of testing data: (1141, 25645)\n"
     ]
    }
   ],
   "source": [
    "#x_train, x_test, y_train, y_test = train_test_split(x,y,test_size=0.25,random_state=42)\n",
    "x_train, x_test, y_train, y_test = train_test_split(X,y,test_size=0.20,random_state=0)\n",
    "print(\"size of training data:\",x_train.shape)\n",
    "print(\"size of testing data:\",x_test.shape)"
   ]
  },
  {
   "cell_type": "code",
   "execution_count": 17,
   "metadata": {},
   "outputs": [],
   "source": [
    "from sklearn.naive_bayes import GaussianNB\n",
    "bayes_classifier = GaussianNB()"
   ]
  },
  {
   "cell_type": "code",
   "execution_count": 18,
   "metadata": {},
   "outputs": [],
   "source": [
    "bayes_classifier.fit(x_train,y_train)\n",
    "\n",
    "y_pred = bayes_classifier.predict(x_test)"
   ]
  },
  {
   "cell_type": "code",
   "execution_count": 19,
   "metadata": {},
   "outputs": [
    {
     "name": "stdout",
     "output_type": "stream",
     "text": [
      "[[845  30]\n",
      " [ 22 244]]\n",
      "Accuracy : 0.95443 \n",
      "\n",
      "\n"
     ]
    }
   ],
   "source": [
    "cm = confusion_matrix(y_test, y_pred)\n",
    "print(cm)\n",
    "print (\"Accuracy : %0.5f \\n\\n\" % accuracy_score(y_test, bayes_classifier.predict(x_test)))"
   ]
  },
  {
   "cell_type": "code",
   "execution_count": 20,
   "metadata": {},
   "outputs": [],
   "source": [
    "# Decision Tree classifier\n",
    "from sklearn.tree import DecisionTreeClassifier\n",
    "dt_model = DecisionTreeClassifier()"
   ]
  },
  {
   "cell_type": "code",
   "execution_count": 21,
   "metadata": {},
   "outputs": [],
   "source": [
    "dt_model.fit(x_train,y_train)\n",
    "\n",
    "prediction = dt_model.predict(x_test)"
   ]
  },
  {
   "cell_type": "code",
   "execution_count": 22,
   "metadata": {
    "scrolled": false
   },
   "outputs": [
    {
     "name": "stdout",
     "output_type": "stream",
     "text": [
      "accuracy_score: 0.9605609114811569\n",
      "confusion_matrix:\n",
      " [[855  20]\n",
      " [ 25 241]]\n"
     ]
    }
   ],
   "source": [
    "print(\"accuracy_score:\",accuracy_score(y_test,prediction))\n",
    "print(\"confusion_matrix:\\n\",confusion_matrix(y_test,prediction))"
   ]
  },
  {
   "cell_type": "code",
   "execution_count": 28,
   "metadata": {},
   "outputs": [],
   "source": [
    "from sklearn.svm import SVC\n",
    "svm_clf = SVC()\n",
    "\n",
    "svm_clf.fit(x_train, y_train)\n",
    "\n",
    "y_pred = svm_clf.predict(x_test)"
   ]
  },
  {
   "cell_type": "code",
   "execution_count": 29,
   "metadata": {},
   "outputs": [
    {
     "name": "stdout",
     "output_type": "stream",
     "text": [
      "model_accuracy: 0.9745836985100789\n",
      "fbeta score: 0.9585289514866979\n",
      "confusion_matrix:\n",
      " [[867   8]\n",
      " [ 21 245]]\n"
     ]
    }
   ],
   "source": [
    "print(\"model_accuracy:\",accuracy_score(y_test,y_pred))\n",
    "print(\"fbeta score:\",fbeta_score(y_test,y_pred,beta=0.5))\n",
    "print(\"confusion_matrix:\\n\",confusion_matrix(y_test,y_pred))"
   ]
  },
  {
   "cell_type": "code",
   "execution_count": 23,
   "metadata": {},
   "outputs": [],
   "source": [
    "#naive_bayes\n",
    "spam_detect_model = MultinomialNB()\n",
    "spam_detect_model.fit(x_train,y_train)\n",
    "\n",
    "y_pred = spam_detect_model.predict(x_test)"
   ]
  },
  {
   "cell_type": "code",
   "execution_count": 24,
   "metadata": {
    "scrolled": true
   },
   "outputs": [
    {
     "name": "stdout",
     "output_type": "stream",
     "text": [
      "model_accuracy: 0.9824715162138475\n",
      "fbeta score: 0.9469153515064562\n",
      "confusion_matrix:\n",
      " [[857  18]\n",
      " [  2 264]]\n"
     ]
    }
   ],
   "source": [
    "print(\"model_accuracy:\",accuracy_score(y_test,y_pred))\n",
    "print(\"fbeta score:\",fbeta_score(y_test,y_pred,beta=0.5))\n",
    "print(\"confusion_matrix:\\n\",confusion_matrix(y_test,y_pred))"
   ]
  },
  {
   "cell_type": "code",
   "execution_count": 25,
   "metadata": {},
   "outputs": [],
   "source": [
    "import pickle"
   ]
  },
  {
   "cell_type": "code",
   "execution_count": 26,
   "metadata": {},
   "outputs": [],
   "source": [
    "pickle.dump(spam_detect_model,open('spam_mail.pkl','wb'))  \n",
    " #this pickle file is our machine learning model pickle file."
   ]
  },
  {
   "cell_type": "code",
   "execution_count": 27,
   "metadata": {},
   "outputs": [],
   "source": [
    "pickle.dump(cVect,open('emvec.pkl','wb'))"
   ]
  },
  {
   "cell_type": "code",
   "execution_count": null,
   "metadata": {},
   "outputs": [],
   "source": []
  }
 ],
 "metadata": {
  "kernelspec": {
   "display_name": "Python 3",
   "language": "python",
   "name": "python3"
  },
  "language_info": {
   "codemirror_mode": {
    "name": "ipython",
    "version": 3
   },
   "file_extension": ".py",
   "mimetype": "text/x-python",
   "name": "python",
   "nbconvert_exporter": "python",
   "pygments_lexer": "ipython3",
   "version": "3.8.5"
  }
 },
 "nbformat": 4,
 "nbformat_minor": 4
}
